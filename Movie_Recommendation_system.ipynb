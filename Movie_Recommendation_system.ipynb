{
  "nbformat": 4,
  "nbformat_minor": 0,
  "metadata": {
    "colab": {
      "name": "NetflixMovie_Recommendation_system.ipynb",
      "provenance": [],
      "collapsed_sections": []
    },
    "kernelspec": {
      "name": "python3",
      "display_name": "Python 3"
    },
    "accelerator": "GPU"
  },
  "cells": [
    {
      "cell_type": "markdown",
      "metadata": {
        "id": "sh3x1-HHnwkJ",
        "colab_type": "text"
      },
      "source": [
        "# **Movie: Recommendation system**"
      ]
    },
    {
      "cell_type": "markdown",
      "metadata": {
        "id": "yzL0zUaM7Oik",
        "colab_type": "text"
      },
      "source": [
        "![](https://data-flair.training/blogs/wp-content/uploads/sites/2/2019/07/data-science-movie-recommendation-project.jpg)"
      ]
    },
    {
      "cell_type": "markdown",
      "metadata": {
        "id": "gf6n2048B-Qf",
        "colab_type": "text"
      },
      "source": [
        "![](https://datascienceplus.com/wp-content/uploads/2017/09/2017-09-20-2.png)"
      ]
    },
    {
      "cell_type": "markdown",
      "metadata": {
        "id": "JGGdXSULsAZ-",
        "colab_type": "text"
      },
      "source": [
        "**DATA**"
      ]
    },
    {
      "cell_type": "markdown",
      "metadata": {
        "id": "Oo_u1utlr5VL",
        "colab_type": "text"
      },
      "source": [
        "Dataset acquired from [GroupLens](http://grouplens.org/datasets/movielens/). "
      ]
    },
    {
      "cell_type": "code",
      "metadata": {
        "id": "Zl5s4rZruPE-",
        "colab_type": "code",
        "colab": {}
      },
      "source": [
        "import pandas as pd\n",
        "import numpy as np\n",
        "import pickle\n",
        "from sklearn.metrics import f1_score\n",
        "import matplotlib.pyplot as plt\n",
        "%matplotlib inline\n",
        "from math import sqrt"
      ],
      "execution_count": null,
      "outputs": []
    },
    {
      "cell_type": "code",
      "metadata": {
        "id": "nBi42iAf1xCo",
        "colab_type": "code",
        "colab": {
          "base_uri": "https://localhost:8080/",
          "height": 419
        },
        "outputId": "d71001a2-1131-42f3-b672-23cbf0b224d2"
      },
      "source": [
        "df = pd.read_csv('/content/movies.csv')\n",
        "df_content = pd.read_csv('/content/ratings.csv')\n",
        "df"
      ],
      "execution_count": null,
      "outputs": [
        {
          "output_type": "execute_result",
          "data": {
            "text/html": [
              "<div>\n",
              "<style scoped>\n",
              "    .dataframe tbody tr th:only-of-type {\n",
              "        vertical-align: middle;\n",
              "    }\n",
              "\n",
              "    .dataframe tbody tr th {\n",
              "        vertical-align: top;\n",
              "    }\n",
              "\n",
              "    .dataframe thead th {\n",
              "        text-align: right;\n",
              "    }\n",
              "</style>\n",
              "<table border=\"1\" class=\"dataframe\">\n",
              "  <thead>\n",
              "    <tr style=\"text-align: right;\">\n",
              "      <th></th>\n",
              "      <th>movieId</th>\n",
              "      <th>title</th>\n",
              "      <th>genres</th>\n",
              "    </tr>\n",
              "  </thead>\n",
              "  <tbody>\n",
              "    <tr>\n",
              "      <th>0</th>\n",
              "      <td>1</td>\n",
              "      <td>Toy Story (1995)</td>\n",
              "      <td>Adventure|Animation|Children|Comedy|Fantasy</td>\n",
              "    </tr>\n",
              "    <tr>\n",
              "      <th>1</th>\n",
              "      <td>2</td>\n",
              "      <td>Jumanji (1995)</td>\n",
              "      <td>Adventure|Children|Fantasy</td>\n",
              "    </tr>\n",
              "    <tr>\n",
              "      <th>2</th>\n",
              "      <td>3</td>\n",
              "      <td>Grumpier Old Men (1995)</td>\n",
              "      <td>Comedy|Romance</td>\n",
              "    </tr>\n",
              "    <tr>\n",
              "      <th>3</th>\n",
              "      <td>4</td>\n",
              "      <td>Waiting to Exhale (1995)</td>\n",
              "      <td>Comedy|Drama|Romance</td>\n",
              "    </tr>\n",
              "    <tr>\n",
              "      <th>4</th>\n",
              "      <td>5</td>\n",
              "      <td>Father of the Bride Part II (1995)</td>\n",
              "      <td>Comedy</td>\n",
              "    </tr>\n",
              "    <tr>\n",
              "      <th>...</th>\n",
              "      <td>...</td>\n",
              "      <td>...</td>\n",
              "      <td>...</td>\n",
              "    </tr>\n",
              "    <tr>\n",
              "      <th>34203</th>\n",
              "      <td>151697</td>\n",
              "      <td>Grand Slam (1967)</td>\n",
              "      <td>Thriller</td>\n",
              "    </tr>\n",
              "    <tr>\n",
              "      <th>34204</th>\n",
              "      <td>151701</td>\n",
              "      <td>Bloodmoney (2010)</td>\n",
              "      <td>(no genres listed)</td>\n",
              "    </tr>\n",
              "    <tr>\n",
              "      <th>34205</th>\n",
              "      <td>151703</td>\n",
              "      <td>The Butterfly Circus (2009)</td>\n",
              "      <td>Drama</td>\n",
              "    </tr>\n",
              "    <tr>\n",
              "      <th>34206</th>\n",
              "      <td>151709</td>\n",
              "      <td>Zero (2015)</td>\n",
              "      <td>Drama|Sci-Fi</td>\n",
              "    </tr>\n",
              "    <tr>\n",
              "      <th>34207</th>\n",
              "      <td>151711</td>\n",
              "      <td>The 2000 Year Old Man (1975)</td>\n",
              "      <td>(no genres listed)</td>\n",
              "    </tr>\n",
              "  </tbody>\n",
              "</table>\n",
              "<p>34208 rows × 3 columns</p>\n",
              "</div>"
            ],
            "text/plain": [
              "       movieId  ...                                       genres\n",
              "0            1  ...  Adventure|Animation|Children|Comedy|Fantasy\n",
              "1            2  ...                   Adventure|Children|Fantasy\n",
              "2            3  ...                               Comedy|Romance\n",
              "3            4  ...                         Comedy|Drama|Romance\n",
              "4            5  ...                                       Comedy\n",
              "...        ...  ...                                          ...\n",
              "34203   151697  ...                                     Thriller\n",
              "34204   151701  ...                           (no genres listed)\n",
              "34205   151703  ...                                        Drama\n",
              "34206   151709  ...                                 Drama|Sci-Fi\n",
              "34207   151711  ...                           (no genres listed)\n",
              "\n",
              "[34208 rows x 3 columns]"
            ]
          },
          "metadata": {
            "tags": []
          },
          "execution_count": 138
        }
      ]
    },
    {
      "cell_type": "code",
      "metadata": {
        "id": "oAZsPmSb20qM",
        "colab_type": "code",
        "colab": {
          "base_uri": "https://localhost:8080/",
          "height": 419
        },
        "outputId": "59e05312-57a2-48a1-afc2-23f1134decd7"
      },
      "source": [
        "df_content"
      ],
      "execution_count": null,
      "outputs": [
        {
          "output_type": "execute_result",
          "data": {
            "text/html": [
              "<div>\n",
              "<style scoped>\n",
              "    .dataframe tbody tr th:only-of-type {\n",
              "        vertical-align: middle;\n",
              "    }\n",
              "\n",
              "    .dataframe tbody tr th {\n",
              "        vertical-align: top;\n",
              "    }\n",
              "\n",
              "    .dataframe thead th {\n",
              "        text-align: right;\n",
              "    }\n",
              "</style>\n",
              "<table border=\"1\" class=\"dataframe\">\n",
              "  <thead>\n",
              "    <tr style=\"text-align: right;\">\n",
              "      <th></th>\n",
              "      <th>userId</th>\n",
              "      <th>movieId</th>\n",
              "      <th>rating</th>\n",
              "      <th>timestamp</th>\n",
              "    </tr>\n",
              "  </thead>\n",
              "  <tbody>\n",
              "    <tr>\n",
              "      <th>0</th>\n",
              "      <td>1</td>\n",
              "      <td>169</td>\n",
              "      <td>2.5</td>\n",
              "      <td>1204927694</td>\n",
              "    </tr>\n",
              "    <tr>\n",
              "      <th>1</th>\n",
              "      <td>1</td>\n",
              "      <td>2471</td>\n",
              "      <td>3.0</td>\n",
              "      <td>1204927438</td>\n",
              "    </tr>\n",
              "    <tr>\n",
              "      <th>2</th>\n",
              "      <td>1</td>\n",
              "      <td>48516</td>\n",
              "      <td>5.0</td>\n",
              "      <td>1204927435</td>\n",
              "    </tr>\n",
              "    <tr>\n",
              "      <th>3</th>\n",
              "      <td>2</td>\n",
              "      <td>2571</td>\n",
              "      <td>3.5</td>\n",
              "      <td>1436165433</td>\n",
              "    </tr>\n",
              "    <tr>\n",
              "      <th>4</th>\n",
              "      <td>2</td>\n",
              "      <td>109487</td>\n",
              "      <td>4.0</td>\n",
              "      <td>1436165496</td>\n",
              "    </tr>\n",
              "    <tr>\n",
              "      <th>...</th>\n",
              "      <td>...</td>\n",
              "      <td>...</td>\n",
              "      <td>...</td>\n",
              "      <td>...</td>\n",
              "    </tr>\n",
              "    <tr>\n",
              "      <th>22884372</th>\n",
              "      <td>247753</td>\n",
              "      <td>49530</td>\n",
              "      <td>5.0</td>\n",
              "      <td>1430437962</td>\n",
              "    </tr>\n",
              "    <tr>\n",
              "      <th>22884373</th>\n",
              "      <td>247753</td>\n",
              "      <td>69481</td>\n",
              "      <td>3.0</td>\n",
              "      <td>1430437984</td>\n",
              "    </tr>\n",
              "    <tr>\n",
              "      <th>22884374</th>\n",
              "      <td>247753</td>\n",
              "      <td>74458</td>\n",
              "      <td>4.0</td>\n",
              "      <td>1430437968</td>\n",
              "    </tr>\n",
              "    <tr>\n",
              "      <th>22884375</th>\n",
              "      <td>247753</td>\n",
              "      <td>76093</td>\n",
              "      <td>5.0</td>\n",
              "      <td>1430437811</td>\n",
              "    </tr>\n",
              "    <tr>\n",
              "      <th>22884376</th>\n",
              "      <td>247753</td>\n",
              "      <td>130636</td>\n",
              "      <td>0.5</td>\n",
              "      <td>1430437721</td>\n",
              "    </tr>\n",
              "  </tbody>\n",
              "</table>\n",
              "<p>22884377 rows × 4 columns</p>\n",
              "</div>"
            ],
            "text/plain": [
              "          userId  movieId  rating   timestamp\n",
              "0              1      169     2.5  1204927694\n",
              "1              1     2471     3.0  1204927438\n",
              "2              1    48516     5.0  1204927435\n",
              "3              2     2571     3.5  1436165433\n",
              "4              2   109487     4.0  1436165496\n",
              "...          ...      ...     ...         ...\n",
              "22884372  247753    49530     5.0  1430437962\n",
              "22884373  247753    69481     3.0  1430437984\n",
              "22884374  247753    74458     4.0  1430437968\n",
              "22884375  247753    76093     5.0  1430437811\n",
              "22884376  247753   130636     0.5  1430437721\n",
              "\n",
              "[22884377 rows x 4 columns]"
            ]
          },
          "metadata": {
            "tags": []
          },
          "execution_count": 139
        }
      ]
    },
    {
      "cell_type": "markdown",
      "metadata": {
        "id": "4qX_90Xjt4l-",
        "colab_type": "text"
      },
      "source": [
        "**Preprocessing**"
      ]
    },
    {
      "cell_type": "code",
      "metadata": {
        "id": "mhLzFkLs3D2u",
        "colab_type": "code",
        "colab": {
          "base_uri": "https://localhost:8080/",
          "height": 170
        },
        "outputId": "188551e9-792f-4b33-a649-3ab27e1ff43a"
      },
      "source": [
        "df_content['userId'].value_counts().describe()"
      ],
      "execution_count": null,
      "outputs": [
        {
          "output_type": "execute_result",
          "data": {
            "text/plain": [
              "count    247753.000000\n",
              "mean         92.367709\n",
              "std         193.271993\n",
              "min           1.000000\n",
              "25%          15.000000\n",
              "50%          29.000000\n",
              "75%          89.000000\n",
              "max        9281.000000\n",
              "Name: userId, dtype: float64"
            ]
          },
          "metadata": {
            "tags": []
          },
          "execution_count": 140
        }
      ]
    },
    {
      "cell_type": "code",
      "metadata": {
        "id": "vEcHRNj43k2X",
        "colab_type": "code",
        "colab": {
          "base_uri": "https://localhost:8080/",
          "height": 295
        },
        "outputId": "52d03983-6dd6-4338-aaea-c786b81da75c"
      },
      "source": [
        "df_content['userId'].value_counts().hist(bins=100)\n",
        "plt.title('The distribution of how many movies  a user interacts')\n",
        "plt.xlabel('The number of interacts')\n",
        "plt.ylabel('The number of users')\n",
        "plt.show()"
      ],
      "execution_count": null,
      "outputs": [
        {
          "output_type": "display_data",
          "data": {
            "image/png": "[encoded data removed]",
            "text/plain": [
              "<Figure size 432x288 with 1 Axes>"
            ]
          },
          "metadata": {
            "tags": [],
            "needs_background": "light"
          }
        }
      ]
    },
    {
      "cell_type": "code",
      "metadata": {
        "id": "imbKM-RN4_IK",
        "colab_type": "code",
        "colab": {}
      },
      "source": [
        "df['year'] = df.title.str.extract('(\\(\\d\\d\\d\\d\\))',expand=False)\n",
        "#Removing the parentheses\n",
        "df['year'] = df.year.str.extract('(\\d\\d\\d\\d)',expand=False)\n",
        "#Removing the years from the 'title' column\n",
        "df['title'] = df.title.str.replace('(\\(\\d\\d\\d\\d\\))', '')\n",
        "#Applying the strip function to get rid of any ending whitespace characters that may have appeared\n",
        "df['title'] = df['title'].apply(lambda x: x.strip())\n",
        "df['genres'] = df.genres.str.split('|')"
      ],
      "execution_count": null,
      "outputs": []
    },
    {
      "cell_type": "code",
      "metadata": {
        "id": "C_URo4N2-9gj",
        "colab_type": "code",
        "colab": {
          "base_uri": "https://localhost:8080/",
          "height": 445
        },
        "outputId": "a3d831f3-3028-4d12-a9c7-e4bf46d965fd"
      },
      "source": [
        "moviesWithGenres_df = df.copy()\n",
        "\n",
        "#For every row in the dataframe, iterate through the list of genres and place a 1 into the corresponding column\n",
        "for index, row in df.iterrows():\n",
        "    for genre in row['genres']:\n",
        "        moviesWithGenres_df.at[index, genre] = 1\n",
        "#Filling in the NaN values with 0 to show that a movie doesn't have that column's genre\n",
        "moviesWithGenres_df = moviesWithGenres_df.fillna(0)\n",
        "moviesWithGenres_df.head()"
      ],
      "execution_count": null,
      "outputs": [
        {
          "output_type": "execute_result",
          "data": {
            "text/html": [
              "<div>\n",
              "<style scoped>\n",
              "    .dataframe tbody tr th:only-of-type {\n",
              "        vertical-align: middle;\n",
              "    }\n",
              "\n",
              "    .dataframe tbody tr th {\n",
              "        vertical-align: top;\n",
              "    }\n",
              "\n",
              "    .dataframe thead th {\n",
              "        text-align: right;\n",
              "    }\n",
              "</style>\n",
              "<table border=\"1\" class=\"dataframe\">\n",
              "  <thead>\n",
              "    <tr style=\"text-align: right;\">\n",
              "      <th></th>\n",
              "      <th>movieId</th>\n",
              "      <th>title</th>\n",
              "      <th>genres</th>\n",
              "      <th>year</th>\n",
              "      <th>Adventure</th>\n",
              "      <th>Animation</th>\n",
              "      <th>Children</th>\n",
              "      <th>Comedy</th>\n",
              "      <th>Fantasy</th>\n",
              "      <th>Romance</th>\n",
              "      <th>Drama</th>\n",
              "      <th>Action</th>\n",
              "      <th>Crime</th>\n",
              "      <th>Thriller</th>\n",
              "      <th>Horror</th>\n",
              "      <th>Mystery</th>\n",
              "      <th>Sci-Fi</th>\n",
              "      <th>IMAX</th>\n",
              "      <th>Documentary</th>\n",
              "      <th>War</th>\n",
              "      <th>Musical</th>\n",
              "      <th>Western</th>\n",
              "      <th>Film-Noir</th>\n",
              "      <th>(no genres listed)</th>\n",
              "    </tr>\n",
              "  </thead>\n",
              "  <tbody>\n",
              "    <tr>\n",
              "      <th>0</th>\n",
              "      <td>1</td>\n",
              "      <td>Toy Story</td>\n",
              "      <td>[Adventure, Animation, Children, Comedy, Fantasy]</td>\n",
              "      <td>1995</td>\n",
              "      <td>1.0</td>\n",
              "      <td>1.0</td>\n",
              "      <td>1.0</td>\n",
              "      <td>1.0</td>\n",
              "      <td>1.0</td>\n",
              "      <td>0.0</td>\n",
              "      <td>0.0</td>\n",
              "      <td>0.0</td>\n",
              "      <td>0.0</td>\n",
              "      <td>0.0</td>\n",
              "      <td>0.0</td>\n",
              "      <td>0.0</td>\n",
              "      <td>0.0</td>\n",
              "      <td>0.0</td>\n",
              "      <td>0.0</td>\n",
              "      <td>0.0</td>\n",
              "      <td>0.0</td>\n",
              "      <td>0.0</td>\n",
              "      <td>0.0</td>\n",
              "      <td>0.0</td>\n",
              "    </tr>\n",
              "    <tr>\n",
              "      <th>1</th>\n",
              "      <td>2</td>\n",
              "      <td>Jumanji</td>\n",
              "      <td>[Adventure, Children, Fantasy]</td>\n",
              "      <td>1995</td>\n",
              "      <td>1.0</td>\n",
              "      <td>0.0</td>\n",
              "      <td>1.0</td>\n",
              "      <td>0.0</td>\n",
              "      <td>1.0</td>\n",
              "      <td>0.0</td>\n",
              "      <td>0.0</td>\n",
              "      <td>0.0</td>\n",
              "      <td>0.0</td>\n",
              "      <td>0.0</td>\n",
              "      <td>0.0</td>\n",
              "      <td>0.0</td>\n",
              "      <td>0.0</td>\n",
              "      <td>0.0</td>\n",
              "      <td>0.0</td>\n",
              "      <td>0.0</td>\n",
              "      <td>0.0</td>\n",
              "      <td>0.0</td>\n",
              "      <td>0.0</td>\n",
              "      <td>0.0</td>\n",
              "    </tr>\n",
              "    <tr>\n",
              "      <th>2</th>\n",
              "      <td>3</td>\n",
              "      <td>Grumpier Old Men</td>\n",
              "      <td>[Comedy, Romance]</td>\n",
              "      <td>1995</td>\n",
              "      <td>0.0</td>\n",
              "      <td>0.0</td>\n",
              "      <td>0.0</td>\n",
              "      <td>1.0</td>\n",
              "      <td>0.0</td>\n",
              "      <td>1.0</td>\n",
              "      <td>0.0</td>\n",
              "      <td>0.0</td>\n",
              "      <td>0.0</td>\n",
              "      <td>0.0</td>\n",
              "      <td>0.0</td>\n",
              "      <td>0.0</td>\n",
              "      <td>0.0</td>\n",
              "      <td>0.0</td>\n",
              "      <td>0.0</td>\n",
              "      <td>0.0</td>\n",
              "      <td>0.0</td>\n",
              "      <td>0.0</td>\n",
              "      <td>0.0</td>\n",
              "      <td>0.0</td>\n",
              "    </tr>\n",
              "    <tr>\n",
              "      <th>3</th>\n",
              "      <td>4</td>\n",
              "      <td>Waiting to Exhale</td>\n",
              "      <td>[Comedy, Drama, Romance]</td>\n",
              "      <td>1995</td>\n",
              "      <td>0.0</td>\n",
              "      <td>0.0</td>\n",
              "      <td>0.0</td>\n",
              "      <td>1.0</td>\n",
              "      <td>0.0</td>\n",
              "      <td>1.0</td>\n",
              "      <td>1.0</td>\n",
              "      <td>0.0</td>\n",
              "      <td>0.0</td>\n",
              "      <td>0.0</td>\n",
              "      <td>0.0</td>\n",
              "      <td>0.0</td>\n",
              "      <td>0.0</td>\n",
              "      <td>0.0</td>\n",
              "      <td>0.0</td>\n",
              "      <td>0.0</td>\n",
              "      <td>0.0</td>\n",
              "      <td>0.0</td>\n",
              "      <td>0.0</td>\n",
              "      <td>0.0</td>\n",
              "    </tr>\n",
              "    <tr>\n",
              "      <th>4</th>\n",
              "      <td>5</td>\n",
              "      <td>Father of the Bride Part II</td>\n",
              "      <td>[Comedy]</td>\n",
              "      <td>1995</td>\n",
              "      <td>0.0</td>\n",
              "      <td>0.0</td>\n",
              "      <td>0.0</td>\n",
              "      <td>1.0</td>\n",
              "      <td>0.0</td>\n",
              "      <td>0.0</td>\n",
              "      <td>0.0</td>\n",
              "      <td>0.0</td>\n",
              "      <td>0.0</td>\n",
              "      <td>0.0</td>\n",
              "      <td>0.0</td>\n",
              "      <td>0.0</td>\n",
              "      <td>0.0</td>\n",
              "      <td>0.0</td>\n",
              "      <td>0.0</td>\n",
              "      <td>0.0</td>\n",
              "      <td>0.0</td>\n",
              "      <td>0.0</td>\n",
              "      <td>0.0</td>\n",
              "      <td>0.0</td>\n",
              "    </tr>\n",
              "  </tbody>\n",
              "</table>\n",
              "</div>"
            ],
            "text/plain": [
              "   movieId                        title  ... Film-Noir (no genres listed)\n",
              "0        1                    Toy Story  ...       0.0                0.0\n",
              "1        2                      Jumanji  ...       0.0                0.0\n",
              "2        3             Grumpier Old Men  ...       0.0                0.0\n",
              "3        4            Waiting to Exhale  ...       0.0                0.0\n",
              "4        5  Father of the Bride Part II  ...       0.0                0.0\n",
              "\n",
              "[5 rows x 24 columns]"
            ]
          },
          "metadata": {
            "tags": []
          },
          "execution_count": 143
        }
      ]
    },
    {
      "cell_type": "code",
      "metadata": {
        "id": "sdGIiq50BWxO",
        "colab_type": "code",
        "colab": {}
      },
      "source": [
        "df_content = df_content[~df_content['movieId'].duplicated()]"
      ],
      "execution_count": null,
      "outputs": []
    },
    {
      "cell_type": "code",
      "metadata": {
        "id": "zVvrcfibDC_J",
        "colab_type": "code",
        "colab": {
          "base_uri": "https://localhost:8080/",
          "height": 170
        },
        "outputId": "ad757ff8-dc4b-44c2-f88e-2d47dc9b80e1"
      },
      "source": [
        "df['movieId'].value_counts().describe()"
      ],
      "execution_count": null,
      "outputs": [
        {
          "output_type": "execute_result",
          "data": {
            "text/plain": [
              "count    34208.0\n",
              "mean         1.0\n",
              "std          0.0\n",
              "min          1.0\n",
              "25%          1.0\n",
              "50%          1.0\n",
              "75%          1.0\n",
              "max          1.0\n",
              "Name: movieId, dtype: float64"
            ]
          },
          "metadata": {
            "tags": []
          },
          "execution_count": 145
        }
      ]
    },
    {
      "cell_type": "code",
      "metadata": {
        "id": "wvTVjZs3DHna",
        "colab_type": "code",
        "colab": {
          "base_uri": "https://localhost:8080/",
          "height": 34
        },
        "outputId": "628ea49a-bec8-4a1c-b27d-575777227afe"
      },
      "source": [
        "len(df_content['movieId'])"
      ],
      "execution_count": null,
      "outputs": [
        {
          "output_type": "execute_result",
          "data": {
            "text/plain": [
              "33670"
            ]
          },
          "metadata": {
            "tags": []
          },
          "execution_count": 146
        }
      ]
    },
    {
      "cell_type": "code",
      "metadata": {
        "id": "ZXTD-wJVDNQQ",
        "colab_type": "code",
        "colab": {}
      },
      "source": [
        "def top_movie(n, df=df):\n",
        "   \n",
        "    top_movies = list(set(df[df['movieId'].isin(top_movie_Id(n))]['title']))\n",
        "        \n",
        "    return top_movies \n",
        "\n",
        "def top_movie_Id(n, df=df):\n",
        "    \n",
        "    movie_id_list = [str(aid) for aid in df['movieId'].value_counts().head(n).index]\n",
        " \n",
        "    return movie_id_list "
      ],
      "execution_count": null,
      "outputs": []
    },
    {
      "cell_type": "code",
      "metadata": {
        "id": "7ClltCpNEIeq",
        "colab_type": "code",
        "colab": {
          "base_uri": "https://localhost:8080/",
          "height": 34
        },
        "outputId": "aff106ec-9dba-44d5-8f02-f0a6464d7f34"
      },
      "source": [
        "print(top_movie_Id(5))"
      ],
      "execution_count": null,
      "outputs": [
        {
          "output_type": "stream",
          "text": [
            "['2047', '140846', '122385', '138424', '65045']\n"
          ],
          "name": "stdout"
        }
      ]
    },
    {
      "cell_type": "code",
      "metadata": {
        "id": "yFonzpdWERjs",
        "colab_type": "code",
        "colab": {
          "base_uri": "https://localhost:8080/",
          "height": 34
        },
        "outputId": "1cd31df1-85c3-4cb0-bc43-89ef28a548c7"
      },
      "source": [
        "print(top_movie(5))\n"
      ],
      "execution_count": null,
      "outputs": [
        {
          "output_type": "stream",
          "text": [
            "['Alien Raiders', 'Thunder Birds', 'Gnome-Mobile, The', 'The Future', 'Toute première fois']\n"
          ],
          "name": "stdout"
        }
      ]
    },
    {
      "cell_type": "code",
      "metadata": {
        "id": "h7wF7FohHOrK",
        "colab_type": "code",
        "colab": {
          "base_uri": "https://localhost:8080/",
          "height": 111
        },
        "outputId": "aa8dee80-1dea-4cad-ff79-4eed651fb1bd"
      },
      "source": [
        "df.head(2)"
      ],
      "execution_count": null,
      "outputs": [
        {
          "output_type": "execute_result",
          "data": {
            "text/html": [
              "<div>\n",
              "<style scoped>\n",
              "    .dataframe tbody tr th:only-of-type {\n",
              "        vertical-align: middle;\n",
              "    }\n",
              "\n",
              "    .dataframe tbody tr th {\n",
              "        vertical-align: top;\n",
              "    }\n",
              "\n",
              "    .dataframe thead th {\n",
              "        text-align: right;\n",
              "    }\n",
              "</style>\n",
              "<table border=\"1\" class=\"dataframe\">\n",
              "  <thead>\n",
              "    <tr style=\"text-align: right;\">\n",
              "      <th></th>\n",
              "      <th>movieId</th>\n",
              "      <th>title</th>\n",
              "      <th>genres</th>\n",
              "      <th>year</th>\n",
              "    </tr>\n",
              "  </thead>\n",
              "  <tbody>\n",
              "    <tr>\n",
              "      <th>0</th>\n",
              "      <td>1</td>\n",
              "      <td>Toy Story</td>\n",
              "      <td>[Adventure, Animation, Children, Comedy, Fantasy]</td>\n",
              "      <td>1995</td>\n",
              "    </tr>\n",
              "    <tr>\n",
              "      <th>1</th>\n",
              "      <td>2</td>\n",
              "      <td>Jumanji</td>\n",
              "      <td>[Adventure, Children, Fantasy]</td>\n",
              "      <td>1995</td>\n",
              "    </tr>\n",
              "  </tbody>\n",
              "</table>\n",
              "</div>"
            ],
            "text/plain": [
              "   movieId      title                                             genres  year\n",
              "0        1  Toy Story  [Adventure, Animation, Children, Comedy, Fantasy]  1995\n",
              "1        2    Jumanji                     [Adventure, Children, Fantasy]  1995"
            ]
          },
          "metadata": {
            "tags": []
          },
          "execution_count": 150
        }
      ]
    },
    {
      "cell_type": "code",
      "metadata": {
        "id": "0Nv1qbpfGcGK",
        "colab_type": "code",
        "colab": {
          "base_uri": "https://localhost:8080/",
          "height": 204
        },
        "outputId": "21c7c885-0806-4a48-a1c6-323e54923760"
      },
      "source": [
        "def maper_year():\n",
        "    dict_y = dict()\n",
        "    i = 1\n",
        "    years_encoded = []\n",
        "    \n",
        "    for j in df['year']:\n",
        "        if j not in dict_y:\n",
        "            dict_y[j] = i\n",
        "            i+=1\n",
        "        \n",
        "        years_encoded.append(dict_y[j])\n",
        "    return years_encoded\n",
        "\n",
        "years_encoded = maper_year()\n",
        "del df['year']\n",
        "df['user_id'] = years_encoded\n",
        "df.head()"
      ],
      "execution_count": null,
      "outputs": [
        {
          "output_type": "execute_result",
          "data": {
            "text/html": [
              "<div>\n",
              "<style scoped>\n",
              "    .dataframe tbody tr th:only-of-type {\n",
              "        vertical-align: middle;\n",
              "    }\n",
              "\n",
              "    .dataframe tbody tr th {\n",
              "        vertical-align: top;\n",
              "    }\n",
              "\n",
              "    .dataframe thead th {\n",
              "        text-align: right;\n",
              "    }\n",
              "</style>\n",
              "<table border=\"1\" class=\"dataframe\">\n",
              "  <thead>\n",
              "    <tr style=\"text-align: right;\">\n",
              "      <th></th>\n",
              "      <th>movieId</th>\n",
              "      <th>title</th>\n",
              "      <th>genres</th>\n",
              "      <th>user_id</th>\n",
              "    </tr>\n",
              "  </thead>\n",
              "  <tbody>\n",
              "    <tr>\n",
              "      <th>0</th>\n",
              "      <td>1</td>\n",
              "      <td>Toy Story</td>\n",
              "      <td>[Adventure, Animation, Children, Comedy, Fantasy]</td>\n",
              "      <td>1</td>\n",
              "    </tr>\n",
              "    <tr>\n",
              "      <th>1</th>\n",
              "      <td>2</td>\n",
              "      <td>Jumanji</td>\n",
              "      <td>[Adventure, Children, Fantasy]</td>\n",
              "      <td>1</td>\n",
              "    </tr>\n",
              "    <tr>\n",
              "      <th>2</th>\n",
              "      <td>3</td>\n",
              "      <td>Grumpier Old Men</td>\n",
              "      <td>[Comedy, Romance]</td>\n",
              "      <td>1</td>\n",
              "    </tr>\n",
              "    <tr>\n",
              "      <th>3</th>\n",
              "      <td>4</td>\n",
              "      <td>Waiting to Exhale</td>\n",
              "      <td>[Comedy, Drama, Romance]</td>\n",
              "      <td>1</td>\n",
              "    </tr>\n",
              "    <tr>\n",
              "      <th>4</th>\n",
              "      <td>5</td>\n",
              "      <td>Father of the Bride Part II</td>\n",
              "      <td>[Comedy]</td>\n",
              "      <td>1</td>\n",
              "    </tr>\n",
              "  </tbody>\n",
              "</table>\n",
              "</div>"
            ],
            "text/plain": [
              "   movieId  ... user_id\n",
              "0        1  ...       1\n",
              "1        2  ...       1\n",
              "2        3  ...       1\n",
              "3        4  ...       1\n",
              "4        5  ...       1\n",
              "\n",
              "[5 rows x 4 columns]"
            ]
          },
          "metadata": {
            "tags": []
          },
          "execution_count": 151
        }
      ]
    },
    {
      "cell_type": "code",
      "metadata": {
        "id": "Adlp8Dl6WuZ8",
        "colab_type": "code",
        "colab": {}
      },
      "source": [
        "no_of_rated_movies_per_user = df_content.groupby(by = \"userId\")[\"rating\"].count().sort_values(ascending = False)"
      ],
      "execution_count": null,
      "outputs": []
    },
    {
      "cell_type": "code",
      "metadata": {
        "id": "ZLmeQXgUXHOs",
        "colab_type": "code",
        "colab": {
          "base_uri": "https://localhost:8080/",
          "height": 513
        },
        "outputId": "9a1252df-6f4b-4c02-d6ce-43891c35a8a9"
      },
      "source": [
        "fig, axes = plt.subplots(nrows = 1, ncols = 2, figsize=(14,7))\n",
        "\n",
        "sns.kdeplot(no_of_rated_movies_per_user.values, shade = True, ax = axes[0])\n",
        "axes[0].set_title(\"PDF\", fontsize = 18)\n",
        "axes[0].set_xlabel(\"Number of Ratings by user\", fontsize = 18)\n",
        "axes[0].tick_params(labelsize = 15)\n",
        "\n",
        "sns.kdeplot(no_of_rated_movies_per_user.values, shade = True, cumulative = True, ax = axes[1])\n",
        "axes[1].set_title(\"CDF\", fontsize = 18)\n",
        "axes[1].set_xlabel(\"Number of Ratings by user\", fontsize = 18)\n",
        "axes[1].tick_params(labelsize = 15)\n",
        "\n",
        "fig.subplots_adjust(wspace=2)\n",
        "plt.tight_layout()\n",
        "plt.show()"
      ],
      "execution_count": null,
      "outputs": [
        {
          "output_type": "display_data",
          "data": {
            "image/png": "[encoded data removed]",
            "text/plain": [
              "<Figure size 1008x504 with 2 Axes>"
            ]
          },
          "metadata": {
            "tags": [],
            "needs_background": "light"
          }
        }
      ]
    },
    {
      "cell_type": "code",
      "metadata": {
        "id": "A0-Os7XHZYvE",
        "colab_type": "code",
        "colab": {
          "base_uri": "https://localhost:8080/",
          "height": 551
        },
        "outputId": "03e16918-0306-4b38-91f6-5179ccbb33da"
      },
      "source": [
        "quantiles = no_of_rated_movies_per_user.quantile(np.arange(0,1.01,0.01))\n",
        "fig = plt.figure(figsize = (10, 6))\n",
        "\n",
        "axes = fig.add_axes([0.1,0.1,1,1])\n",
        "axes.set_title(\"Quantile values of Ratings Per User\", fontsize = 20)\n",
        "axes.set_xlabel(\"Quantiles\", fontsize = 20)\n",
        "axes.set_ylabel(\"Ratings Per User\", fontsize = 20)\n",
        "axes.plot(quantiles)\n",
        "\n",
        "plt.scatter(x = quantiles.index[::5], y = quantiles.values[::5], c = \"blue\", s = 70, label=\"quantiles with 0.05 intervals\")\n",
        "plt.scatter(x = quantiles.index[::25], y = quantiles.values[::25], c = \"red\", s = 70, label=\"quantiles with 0.25 intervals\")\n",
        "plt.legend(loc='upper left', fontsize = 20)\n",
        "\n",
        "for x, y in zip(quantiles.index[::25], quantiles.values[::25]):\n",
        "    plt.annotate(s = '({},{})'.format(x, y), xy = (x, y), fontweight='bold', fontsize = 16, xytext=(x-0.05, y+180))\n",
        "    \n",
        "axes.tick_params(labelsize = 15)"
      ],
      "execution_count": null,
      "outputs": [
        {
          "output_type": "display_data",
          "data": {
            "image/png": "[encoded data removed]",
            "text/plain": [
              "<Figure size 720x432 with 1 Axes>"
            ]
          },
          "metadata": {
            "tags": [],
            "needs_background": "light"
          }
        }
      ]
    },
    {
      "cell_type": "markdown",
      "metadata": {
        "id": "It3lHhNfEttM",
        "colab_type": "text"
      },
      "source": [
        "**Based Collaborative Filtering**"
      ]
    },
    {
      "cell_type": "code",
      "metadata": {
        "id": "7EPDXWSyEwgI",
        "colab_type": "code",
        "colab": {}
      },
      "source": [
        "def matrix_user_item(df):\n",
        "\n",
        "#Return a matrix with user ids as rows and movie ids on the columns with 1 values where a user interacted with  an movie and a 0 otherwise\n",
        "\n",
        "    user_item = df.groupby(['user_id', 'movieId'])['title'].count().notnull().unstack()\n",
        "    user_item = user_item.notnull().astype(np.int)\n",
        "    \n",
        "    return user_item  \n",
        "\n",
        "user_item = matrix_user_item(df)"
      ],
      "execution_count": null,
      "outputs": []
    },
    {
      "cell_type": "code",
      "metadata": {
        "id": "9xugaCsLI6XR",
        "colab_type": "code",
        "colab": {
          "base_uri": "https://localhost:8080/",
          "height": 191
        },
        "outputId": "ca48dd72-363b-49c5-cbdc-e95186c40c3c"
      },
      "source": [
        "user_item.head(2)"
      ],
      "execution_count": null,
      "outputs": [
        {
          "output_type": "execute_result",
          "data": {
            "text/html": [
              "<div>\n",
              "<style scoped>\n",
              "    .dataframe tbody tr th:only-of-type {\n",
              "        vertical-align: middle;\n",
              "    }\n",
              "\n",
              "    .dataframe tbody tr th {\n",
              "        vertical-align: top;\n",
              "    }\n",
              "\n",
              "    .dataframe thead th {\n",
              "        text-align: right;\n",
              "    }\n",
              "</style>\n",
              "<table border=\"1\" class=\"dataframe\">\n",
              "  <thead>\n",
              "    <tr style=\"text-align: right;\">\n",
              "      <th>movieId</th>\n",
              "      <th>1</th>\n",
              "      <th>2</th>\n",
              "      <th>3</th>\n",
              "      <th>4</th>\n",
              "      <th>5</th>\n",
              "      <th>6</th>\n",
              "      <th>7</th>\n",
              "      <th>8</th>\n",
              "      <th>9</th>\n",
              "      <th>10</th>\n",
              "      <th>11</th>\n",
              "      <th>12</th>\n",
              "      <th>13</th>\n",
              "      <th>14</th>\n",
              "      <th>15</th>\n",
              "      <th>16</th>\n",
              "      <th>17</th>\n",
              "      <th>18</th>\n",
              "      <th>19</th>\n",
              "      <th>20</th>\n",
              "      <th>21</th>\n",
              "      <th>22</th>\n",
              "      <th>23</th>\n",
              "      <th>24</th>\n",
              "      <th>25</th>\n",
              "      <th>26</th>\n",
              "      <th>27</th>\n",
              "      <th>28</th>\n",
              "      <th>29</th>\n",
              "      <th>30</th>\n",
              "      <th>31</th>\n",
              "      <th>32</th>\n",
              "      <th>33</th>\n",
              "      <th>34</th>\n",
              "      <th>35</th>\n",
              "      <th>36</th>\n",
              "      <th>37</th>\n",
              "      <th>38</th>\n",
              "      <th>39</th>\n",
              "      <th>40</th>\n",
              "      <th>...</th>\n",
              "      <th>151593</th>\n",
              "      <th>151599</th>\n",
              "      <th>151601</th>\n",
              "      <th>151605</th>\n",
              "      <th>151611</th>\n",
              "      <th>151613</th>\n",
              "      <th>151615</th>\n",
              "      <th>151619</th>\n",
              "      <th>151621</th>\n",
              "      <th>151623</th>\n",
              "      <th>151625</th>\n",
              "      <th>151627</th>\n",
              "      <th>151629</th>\n",
              "      <th>151631</th>\n",
              "      <th>151641</th>\n",
              "      <th>151645</th>\n",
              "      <th>151647</th>\n",
              "      <th>151649</th>\n",
              "      <th>151655</th>\n",
              "      <th>151657</th>\n",
              "      <th>151661</th>\n",
              "      <th>151663</th>\n",
              "      <th>151667</th>\n",
              "      <th>151669</th>\n",
              "      <th>151671</th>\n",
              "      <th>151673</th>\n",
              "      <th>151675</th>\n",
              "      <th>151677</th>\n",
              "      <th>151679</th>\n",
              "      <th>151683</th>\n",
              "      <th>151685</th>\n",
              "      <th>151687</th>\n",
              "      <th>151689</th>\n",
              "      <th>151691</th>\n",
              "      <th>151695</th>\n",
              "      <th>151697</th>\n",
              "      <th>151701</th>\n",
              "      <th>151703</th>\n",
              "      <th>151709</th>\n",
              "      <th>151711</th>\n",
              "    </tr>\n",
              "    <tr>\n",
              "      <th>user_id</th>\n",
              "      <th></th>\n",
              "      <th></th>\n",
              "      <th></th>\n",
              "      <th></th>\n",
              "      <th></th>\n",
              "      <th></th>\n",
              "      <th></th>\n",
              "      <th></th>\n",
              "      <th></th>\n",
              "      <th></th>\n",
              "      <th></th>\n",
              "      <th></th>\n",
              "      <th></th>\n",
              "      <th></th>\n",
              "      <th></th>\n",
              "      <th></th>\n",
              "      <th></th>\n",
              "      <th></th>\n",
              "      <th></th>\n",
              "      <th></th>\n",
              "      <th></th>\n",
              "      <th></th>\n",
              "      <th></th>\n",
              "      <th></th>\n",
              "      <th></th>\n",
              "      <th></th>\n",
              "      <th></th>\n",
              "      <th></th>\n",
              "      <th></th>\n",
              "      <th></th>\n",
              "      <th></th>\n",
              "      <th></th>\n",
              "      <th></th>\n",
              "      <th></th>\n",
              "      <th></th>\n",
              "      <th></th>\n",
              "      <th></th>\n",
              "      <th></th>\n",
              "      <th></th>\n",
              "      <th></th>\n",
              "      <th></th>\n",
              "      <th></th>\n",
              "      <th></th>\n",
              "      <th></th>\n",
              "      <th></th>\n",
              "      <th></th>\n",
              "      <th></th>\n",
              "      <th></th>\n",
              "      <th></th>\n",
              "      <th></th>\n",
              "      <th></th>\n",
              "      <th></th>\n",
              "      <th></th>\n",
              "      <th></th>\n",
              "      <th></th>\n",
              "      <th></th>\n",
              "      <th></th>\n",
              "      <th></th>\n",
              "      <th></th>\n",
              "      <th></th>\n",
              "      <th></th>\n",
              "      <th></th>\n",
              "      <th></th>\n",
              "      <th></th>\n",
              "      <th></th>\n",
              "      <th></th>\n",
              "      <th></th>\n",
              "      <th></th>\n",
              "      <th></th>\n",
              "      <th></th>\n",
              "      <th></th>\n",
              "      <th></th>\n",
              "      <th></th>\n",
              "      <th></th>\n",
              "      <th></th>\n",
              "      <th></th>\n",
              "      <th></th>\n",
              "      <th></th>\n",
              "      <th></th>\n",
              "      <th></th>\n",
              "      <th></th>\n",
              "    </tr>\n",
              "  </thead>\n",
              "  <tbody>\n",
              "    <tr>\n",
              "      <th>1</th>\n",
              "      <td>1</td>\n",
              "      <td>1</td>\n",
              "      <td>1</td>\n",
              "      <td>1</td>\n",
              "      <td>1</td>\n",
              "      <td>1</td>\n",
              "      <td>1</td>\n",
              "      <td>1</td>\n",
              "      <td>1</td>\n",
              "      <td>1</td>\n",
              "      <td>1</td>\n",
              "      <td>1</td>\n",
              "      <td>1</td>\n",
              "      <td>1</td>\n",
              "      <td>1</td>\n",
              "      <td>1</td>\n",
              "      <td>1</td>\n",
              "      <td>1</td>\n",
              "      <td>1</td>\n",
              "      <td>1</td>\n",
              "      <td>1</td>\n",
              "      <td>1</td>\n",
              "      <td>1</td>\n",
              "      <td>1</td>\n",
              "      <td>1</td>\n",
              "      <td>1</td>\n",
              "      <td>1</td>\n",
              "      <td>1</td>\n",
              "      <td>1</td>\n",
              "      <td>1</td>\n",
              "      <td>1</td>\n",
              "      <td>1</td>\n",
              "      <td>1</td>\n",
              "      <td>1</td>\n",
              "      <td>1</td>\n",
              "      <td>1</td>\n",
              "      <td>1</td>\n",
              "      <td>1</td>\n",
              "      <td>1</td>\n",
              "      <td>1</td>\n",
              "      <td>...</td>\n",
              "      <td>0</td>\n",
              "      <td>0</td>\n",
              "      <td>0</td>\n",
              "      <td>0</td>\n",
              "      <td>0</td>\n",
              "      <td>0</td>\n",
              "      <td>0</td>\n",
              "      <td>0</td>\n",
              "      <td>0</td>\n",
              "      <td>0</td>\n",
              "      <td>0</td>\n",
              "      <td>0</td>\n",
              "      <td>0</td>\n",
              "      <td>0</td>\n",
              "      <td>0</td>\n",
              "      <td>0</td>\n",
              "      <td>0</td>\n",
              "      <td>0</td>\n",
              "      <td>0</td>\n",
              "      <td>0</td>\n",
              "      <td>0</td>\n",
              "      <td>0</td>\n",
              "      <td>0</td>\n",
              "      <td>0</td>\n",
              "      <td>0</td>\n",
              "      <td>0</td>\n",
              "      <td>0</td>\n",
              "      <td>0</td>\n",
              "      <td>0</td>\n",
              "      <td>0</td>\n",
              "      <td>0</td>\n",
              "      <td>0</td>\n",
              "      <td>0</td>\n",
              "      <td>0</td>\n",
              "      <td>0</td>\n",
              "      <td>0</td>\n",
              "      <td>0</td>\n",
              "      <td>0</td>\n",
              "      <td>0</td>\n",
              "      <td>0</td>\n",
              "    </tr>\n",
              "    <tr>\n",
              "      <th>2</th>\n",
              "      <td>0</td>\n",
              "      <td>0</td>\n",
              "      <td>0</td>\n",
              "      <td>0</td>\n",
              "      <td>0</td>\n",
              "      <td>0</td>\n",
              "      <td>0</td>\n",
              "      <td>0</td>\n",
              "      <td>0</td>\n",
              "      <td>0</td>\n",
              "      <td>0</td>\n",
              "      <td>0</td>\n",
              "      <td>0</td>\n",
              "      <td>0</td>\n",
              "      <td>0</td>\n",
              "      <td>0</td>\n",
              "      <td>0</td>\n",
              "      <td>0</td>\n",
              "      <td>0</td>\n",
              "      <td>0</td>\n",
              "      <td>0</td>\n",
              "      <td>0</td>\n",
              "      <td>0</td>\n",
              "      <td>0</td>\n",
              "      <td>0</td>\n",
              "      <td>0</td>\n",
              "      <td>0</td>\n",
              "      <td>0</td>\n",
              "      <td>0</td>\n",
              "      <td>0</td>\n",
              "      <td>0</td>\n",
              "      <td>0</td>\n",
              "      <td>0</td>\n",
              "      <td>0</td>\n",
              "      <td>0</td>\n",
              "      <td>0</td>\n",
              "      <td>0</td>\n",
              "      <td>0</td>\n",
              "      <td>0</td>\n",
              "      <td>0</td>\n",
              "      <td>...</td>\n",
              "      <td>0</td>\n",
              "      <td>0</td>\n",
              "      <td>0</td>\n",
              "      <td>0</td>\n",
              "      <td>0</td>\n",
              "      <td>0</td>\n",
              "      <td>0</td>\n",
              "      <td>0</td>\n",
              "      <td>0</td>\n",
              "      <td>0</td>\n",
              "      <td>0</td>\n",
              "      <td>0</td>\n",
              "      <td>0</td>\n",
              "      <td>0</td>\n",
              "      <td>0</td>\n",
              "      <td>0</td>\n",
              "      <td>0</td>\n",
              "      <td>0</td>\n",
              "      <td>0</td>\n",
              "      <td>0</td>\n",
              "      <td>0</td>\n",
              "      <td>0</td>\n",
              "      <td>0</td>\n",
              "      <td>0</td>\n",
              "      <td>0</td>\n",
              "      <td>0</td>\n",
              "      <td>0</td>\n",
              "      <td>0</td>\n",
              "      <td>0</td>\n",
              "      <td>0</td>\n",
              "      <td>0</td>\n",
              "      <td>0</td>\n",
              "      <td>0</td>\n",
              "      <td>0</td>\n",
              "      <td>0</td>\n",
              "      <td>0</td>\n",
              "      <td>0</td>\n",
              "      <td>0</td>\n",
              "      <td>0</td>\n",
              "      <td>0</td>\n",
              "    </tr>\n",
              "  </tbody>\n",
              "</table>\n",
              "<p>2 rows × 34208 columns</p>\n",
              "</div>"
            ],
            "text/plain": [
              "movieId  1       2       3       4       ...  151701  151703  151709  151711\n",
              "user_id                                  ...                                \n",
              "1             1       1       1       1  ...       0       0       0       0\n",
              "2             0       0       0       0  ...       0       0       0       0\n",
              "\n",
              "[2 rows x 34208 columns]"
            ]
          },
          "metadata": {
            "tags": []
          },
          "execution_count": 155
        }
      ]
    },
    {
      "cell_type": "code",
      "metadata": {
        "id": "4TUfkdjGJTny",
        "colab_type": "code",
        "colab": {}
      },
      "source": [
        "def find_similar_users(user_id, user_item=user_item):\n",
        "    similarity = dict()\n",
        "    \n",
        "    # compute similarity of each user to the provided user\n",
        "    n_users = user_item.shape[0]\n",
        "    for uid in range(1, n_users):\n",
        "        similarity[uid] = np.dot(user_item.loc[user_id], user_item.loc[uid])\n",
        "\n",
        "    # sort by similarity\n",
        "    similarity = sorted(similarity.items(), key=lambda x: x[1], reverse=True)\n",
        "\n",
        "    # create list of just the ids\n",
        "    most_similar_users = [pair[0] for pair in similarity]\n",
        "   \n",
        "    # remove the own user's id\n",
        "    most_similar_users = [uid for uid in most_similar_users if uid != user_id]\n",
        "       \n",
        "    return most_similar_users # return a list of the users in order from most to least similar\n",
        "def get_movie_names(movie_ids, df=df):\n",
        "    \n",
        "    movie_names = list(set(df[df['movieId'].isin(movie_ids)]['title']))\n",
        "    \n",
        "    return movie_names # Return the movie names associated with list of movie ids\n",
        "\n",
        "\n",
        "def get_user_movies(user_id, user_item=user_item):\n",
        "    \n",
        "    movie_ids = user_item.loc[user_id]\n",
        "    movie_ids =  [str(aid) for aid in movie_ids[movie_ids == 1].index]\n",
        "    \n",
        "    movie_names = get_movie_names(movie_ids)\n",
        "    \n",
        "    return movie_ids, movie_names \n",
        "\n",
        "\n",
        "def user_user_recs(user_id, m=10):\n",
        "    \n",
        "    user_ids = find_similar_users(user_id)\n",
        "    \n",
        "    recs = df[df['user_id'].isin(user_ids)]['movieId']\n",
        "    \n",
        "    recs = list(set(recs))\n",
        "    \n",
        "    return recs[:m] # return the recommendations for this user_id\n",
        "def get_top_sorted_users(user_id, df=df, user_item=user_item):\n",
        "\n",
        "    user_interactions = df.groupby(['user_id'])['movieId'].count()\n",
        "\n",
        "    # compute similarity of each user to the provided user\n",
        "    n_users = user_item.shape[0]\n",
        "    \n",
        "    # columns\n",
        "    neighbor_id = [uid for uid in range(1, n_users) if uid != user_id]\n",
        "    similarity = []\n",
        "    num_interactions = []\n",
        "    \n",
        "    # set similarity and num_interactions\n",
        "    for uid in neighbor_id:\n",
        "        similarity.append(np.dot(user_item.loc[user_id], user_item.loc[uid]))\n",
        "        num_interactions.append(user_interactions.loc[uid])\n",
        "        \n",
        "    # create dataframe\n",
        "    neighbors_df = pd.DataFrame({\n",
        "        'neighbor_id': neighbor_id,\n",
        "        'similarity': similarity,\n",
        "        'num_interactions': num_interactions\n",
        "    })\n",
        "    \n",
        "    # sort dataframe by similarity\n",
        "    neighbors_df.sort_values('similarity', ascending=False, inplace=True)\n",
        "    \n",
        "    return neighbors_df # Return the dataframe specified in the doc_string\n",
        "\n",
        "\n",
        "def user_user_recs_part2(user_id, m=10):\n",
        "   \n",
        "    neighbors_df = get_top_sorted_users(user_id)\n",
        "    \n",
        "    # set top-m neighbor_id\n",
        "    top_m_neighbors = list(neighbors_df[:m]['neighbor_id'])\n",
        "\n",
        "    recs = []\n",
        "    for uid in top_m_neighbors:\n",
        "        movie_ids = user_item.loc[uid]\n",
        "        recs.extend([str(aid) for aid in movie_ids[movie_ids == 1].index])\n",
        "\n",
        "    # remove duplicate\n",
        "    recs = list(set(recs[:m]))\n",
        "\n",
        "    # set movie names and remove duplicate\n",
        "    rec_names = list(set(df[df['movieId'].isin(recs)]['title']))\n",
        "\n",
        "    return recs, rec_names"
      ],
      "execution_count": null,
      "outputs": []
    },
    {
      "cell_type": "code",
      "metadata": {
        "id": "qslkrhZWYamd",
        "colab_type": "code",
        "colab": {
          "base_uri": "https://localhost:8080/",
          "height": 102
        },
        "outputId": "741aa111-bd36-444a-a811-3e4a5debf12e"
      },
      "source": [
        "rec_ids, rec_names = user_user_recs_part2(50, 10)\n",
        "print(\"The top 10 recommendations for user 50 are the following movie ids:\")\n",
        "print(rec_ids)\n",
        "print()\n",
        "print(\"The top 10 recommendations for user 50 are the following movie names:\")\n",
        "print(rec_names)"
      ],
      "execution_count": null,
      "outputs": [
        {
          "output_type": "stream",
          "text": [
            "The top 10 recommendations for user 50 are the following movie ids:\n",
            "['10', '8', '9', '4', '3', '6', '2', '5', '7', '1']\n",
            "\n",
            "The top 10 recommendations for user 50 are the following movie names:\n",
            "['GoldenEye', 'Heat', 'Waiting to Exhale', 'Tom and Huck', 'Father of the Bride Part II', 'Sabrina', 'Sudden Death', 'Jumanji', 'Toy Story', 'Grumpier Old Men']\n"
          ],
          "name": "stdout"
        }
      ]
    },
    {
      "cell_type": "code",
      "metadata": {
        "id": "6LvidbV9YhMy",
        "colab_type": "code",
        "colab": {
          "base_uri": "https://localhost:8080/",
          "height": 85
        },
        "outputId": "cea66185-cdfc-48bb-cefa-2a146b3c5643"
      },
      "source": [
        "get_top_sorted_users(120).iloc[0]"
      ],
      "execution_count": null,
      "outputs": [
        {
          "output_type": "execute_result",
          "data": {
            "text/plain": [
              "neighbor_id           1\n",
              "similarity            0\n",
              "num_interactions    523\n",
              "Name: 0, dtype: int64"
            ]
          },
          "metadata": {
            "tags": []
          },
          "execution_count": 158
        }
      ]
    },
    {
      "cell_type": "markdown",
      "metadata": {
        "id": "-rtyzpl8aDM1",
        "colab_type": "text"
      },
      "source": [
        "**Content Based Recommendations**"
      ]
    },
    {
      "cell_type": "code",
      "metadata": {
        "id": "0ynRLwauiJCz",
        "colab_type": "code",
        "colab": {}
      },
      "source": [
        "def tokenize(x):\n",
        "    \n",
        "    stop_words = (set(stopwords.words('Zero')) | set(nltk.corpus.abc.words()))\n",
        "    tokens = word_tokenize(x) #split each message into individual words\n",
        "    lemmatizer = WordNetLemmatizer()\n",
        "    clean_tokens=[]\n",
        "    for token in tokens:\n",
        "        #clean each token from whitespace and punctuation, and conver to\n",
        "        #root of word ie walking->walk\n",
        "        clean_token = lemmatizer.lemmatize(token).lower().strip()\n",
        "        clean_tokens.append(clean_token)\n",
        "        \n",
        "    filtered = [word for word in clean_tokens if word not in stop_words and word.isalpha()]\n",
        "    return filtered\n",
        "def make_content_recs(data_id, user_id=True, m=10, df=df):\n",
        "# OUTPUT:recs (list) - list of movie ids that are recommended | rec_names (list) - list of movie names that are recommended\n",
        "        \n",
        "   \n",
        "    if(user_id):\n",
        "        user_id = data_id\n",
        "        try:\n",
        "            #read movies\n",
        "            movie_ids, _ = get_user_movies(user_id)\n",
        "        except KeyError: #user does not exist\n",
        "            print('User Doesnt Exist, Recommending Top movies')\n",
        "            recs = top_movie_Id(m)\n",
        "            return recs, get_movie_names(recs)\n",
        "    \n",
        "    else:\n",
        "        movie_ids = data_id\n",
        "        \n",
        "    title_data = df.drop_duplicates(subset='movie_id') #drop duplicates \n",
        "    titles = title_data[title_data.movie_id.isin(list(map(float, movie_ids)))].title\n",
        "    \n",
        "    #tokenize the words in each movie title\n",
        "    title_words=[]\n",
        "    tokenized = tokenize(titles.str.cat(sep=' '))\n",
        "    title_words.extend(tokenized)\n",
        "    \n",
        "    #find the highest occuring words\n",
        "    common_words = pd.value_counts(title_words).sort_values(ascending=False)[:10].index\n",
        "\n",
        "    top_matches={}\n",
        "    #count number of occurences of each common word in other movie titles (this measures similarity)\n",
        "    for word in common_words:\n",
        "        word_count = pd.Series(title_data.title.str.count(word).fillna(0)) #gets occurences of each word in title\n",
        "        top_matches[word] = word_count\n",
        "                    \n",
        "    top_matches = pd.DataFrame(top_matches) # num_cols== num of most common words\n",
        "    top_matches['top_matches'] = top_matches.sum(axis=1)\n",
        "    top_matches['movie_id'] = title_data.movie_id.astype(float)\n",
        "    \n",
        "    #get most interacted with movies\n",
        "    movie_occurences = pd.DataFrame({'occurences':df.movie_id.value_counts()})\n",
        "\n",
        "    #sort matches by most popular movies\n",
        "    top_matches = top_matches.merge(movie_occurences, left_on='movie_id', right_index=True)\n",
        "    top_matches.sort_values(['top_matches', 'occurences'], ascending=False, inplace=True)    \n",
        "    \n",
        "    #drop already read movies\n",
        "    recs_df = top_matches[~top_matches.movie_id.isin(list(map(float, movie_ids)))]\n",
        "    \n",
        "    #get rec id and names\n",
        "    recs = recs_df.movie_id[:m].values.astype(str)\n",
        "    rec_names = get_movie_names(recs)\n",
        "    \n",
        "    return recs, rec_names"
      ],
      "execution_count": null,
      "outputs": []
    },
    {
      "cell_type": "code",
      "metadata": {
        "id": "FcRviO40vgX0",
        "colab_type": "code",
        "colab": {
          "base_uri": "https://localhost:8080/",
          "height": 374
        },
        "outputId": "ef07e97e-9b8f-471c-a054-4929a7df116c"
      },
      "source": [
        "make_content_recs('0.0', user_id=True)"
      ],
      "execution_count": null,
      "outputs": [
        {
          "output_type": "stream",
          "text": [
            "User Doesnt Exist, Recommending Top movies\n"
          ],
          "name": "stdout"
        },
        {
          "output_type": "execute_result",
          "data": {
            "text/plain": [
              "(['2047',\n",
              "  '140846',\n",
              "  '122385',\n",
              "  '138424',\n",
              "  '65045',\n",
              "  '34330',\n",
              "  '144994',\n",
              "  '106268',\n",
              "  '89806',\n",
              "  '95780'],\n",
              " ['Alien Raiders',\n",
              "  'Toute première fois',\n",
              "  'Gnome-Mobile, The',\n",
              "  'The Future',\n",
              "  \"Beautiful Dreamer: Brian Wilson and the Story of 'Smile'\",\n",
              "  'The Secret Life of Plants',\n",
              "  'Proud and the Beautiful, The (Orgueilleux, Les) (Proud Ones, The)',\n",
              "  'November',\n",
              "  'Thunder Birds',\n",
              "  'Dragon Ball Z: Bio-Broly (Doragon bôru Z 11: Sûpâ senshi gekiha! Katsu no wa ore da)'])"
            ]
          },
          "metadata": {
            "tags": []
          },
          "execution_count": 160
        }
      ]
    },
    {
      "cell_type": "markdown",
      "metadata": {
        "id": "pAp0IhCn6GGd",
        "colab_type": "text"
      },
      "source": [
        "**Matrix Factorization**"
      ]
    },
    {
      "cell_type": "code",
      "metadata": {
        "id": "mWr3HoFt2uU7",
        "colab_type": "code",
        "colab": {}
      },
      "source": [
        "df_train = df.head(21845)\n",
        "df_test = df.tail(12363)\n",
        "\n",
        "def create_test_and_train_user_item(df_train, df_test):\n",
        "#return:\n",
        "#user_item_train : a user-item matrix of the training dataframe (unique users for each row and unique movies for each column)\n",
        "#user_item_test - a user-item matrix of the testing dataframe (unique users for each row and unique movies for each column)\n",
        "#test_idx - all of the test user ids\n",
        "#test_arts - all of the test movie  ids\n",
        "    \n",
        "    user_item_train = matrix_user_item(df_train)\n",
        "    user_item_test = matrix_user_item(df_test)\n",
        "    \n",
        "    test_idx = user_item_test.index.values\n",
        "    test_arts = user_item_test.columns.values\n",
        "    \n",
        "    return user_item_train, user_item_test, test_idx, test_arts\n",
        "\n"
      ],
      "execution_count": null,
      "outputs": []
    },
    {
      "cell_type": "code",
      "metadata": {
        "id": "oHy2nfKt2x0v",
        "colab_type": "code",
        "colab": {}
      },
      "source": [
        "user_item_train, user_item_test, test_idx, test_arts = create_test_and_train_user_item(df_train, df_test)"
      ],
      "execution_count": null,
      "outputs": []
    },
    {
      "cell_type": "code",
      "metadata": {
        "id": "2khDZZDd3tkM",
        "colab_type": "code",
        "colab": {
          "base_uri": "https://localhost:8080/",
          "height": 153
        },
        "outputId": "1464689b-d491-441f-c1bd-97e5b1e04a4a"
      },
      "source": [
        "print('movies of the test set we can make predictions about')\n",
        "print(len(np.intersect1d(df_train.movieId.unique(),df_test.movieId.unique())))\n",
        "\n",
        "print('movies of the test set we cant make predictions about')\n",
        "print(len(df_test.movieId.unique()) - len(np.intersect1d(df_train.movieId.unique(),df_test.movieId.unique())))\n",
        "\n",
        "print('users of the test set we can make predictions about')\n",
        "print(len(np.intersect1d(df_train.user_id.unique(),df_test.user_id.unique())))\n",
        "\n",
        "print('users of the test set we cant make predictions about')\n",
        "print(len(df_test.user_id.unique()) - len(np.intersect1d(df_train.user_id.unique(),df_test.user_id.unique())))"
      ],
      "execution_count": null,
      "outputs": [
        {
          "output_type": "stream",
          "text": [
            "movies of the test set we can make predictions about\n",
            "0\n",
            "movies of the test set we cant make predictions about\n",
            "12363\n",
            "users of the test set we can make predictions about\n",
            "108\n",
            "users of the test set we cant make predictions about\n",
            "17\n"
          ],
          "name": "stdout"
        }
      ]
    },
    {
      "cell_type": "markdown",
      "metadata": {
        "id": "F-HyUaQr4yTb",
        "colab_type": "text"
      },
      "source": [
        ">MODEL TRAINING"
      ]
    },
    {
      "cell_type": "code",
      "metadata": {
        "id": "F19I0TOG9FAO",
        "colab_type": "code",
        "colab": {}
      },
      "source": [
        "# FIND TRAIN movies AND USER IDs\n",
        "train_idx = np.array(user_item_train.index)\n",
        "train_arts = np.array(user_item_train.columns)\n",
        "\n",
        "# FIND USERS AND movies OF THE TEST SET CONTAINED ALSO IN THE TRAINING SET\n",
        "test_user_subset = np.intersect1d(test_idx,train_idx)\n",
        "test_movies_subset = np.intersect1d(test_arts,train_arts)\n",
        "\n",
        "# FIND THE POSITION (ROW,COL) IN THE TRAINING MATRIX OF THE TEST SUBSET (USER ID, movies ID)\n",
        "train_indexes = np.where(np.in1d(train_idx, test_user_subset))[0]\n",
        "train_movies = np.where(np.in1d(train_arts, test_movies_subset))[0]\n",
        "\n",
        "# FIND THE POSITION (ROW) IN THE TEST MATRIX OF THE TEST SUBSET (USER ID)\n",
        "test_indexes = np.where(np.in1d(test_idx, test_user_subset))[0]"
      ],
      "execution_count": null,
      "outputs": []
    },
    {
      "cell_type": "code",
      "metadata": {
        "id": "oDofC0MB4RsG",
        "colab_type": "code",
        "colab": {}
      },
      "source": [
        "#u_train, s_train, vt_train = np.linalg.svd(user_item_train)"
      ],
      "execution_count": null,
      "outputs": []
    },
    {
      "cell_type": "markdown",
      "metadata": {
        "id": "doqalb83-RkY",
        "colab_type": "text"
      },
      "source": [
        "> MODEL TESTING"
      ]
    },
    {
      "cell_type": "code",
      "metadata": {
        "id": "fLhoL9kM43xa",
        "colab_type": "code",
        "colab": {}
      },
      "source": [
        "num_latent_feats = np.arange(10,570,10)\n",
        "sum_errs = []\n",
        "\n",
        "for k in num_latent_feats:\n",
        "    # restructure with k latent features\n",
        "    s_train_k, u_train_k, vt_train_k = np.diag(s_train[:k]), u_train[:, :k], vt_train[:k, :]\n",
        "    \n",
        "    s_test_k, u_test_k, vt_test_k = s_train_k, u_train_k[train_indexes,:], vt_train_k[:,train_movies]\n",
        "    \n",
        "    # take dot product\n",
        "    user_item_test_subset_est = np.around(np.dot(np.dot(u_test_k, s_test_k), vt_test_k))\n",
        "    \n",
        "    # compute error for each prediction to actual value\n",
        "    diffs = np.subtract(user_item_test_subset, user_item_test_subset_est)\n",
        "    \n",
        "    # total errors and keep track of them\n",
        "    err = np.sum(np.sum(np.abs(diffs)))\n",
        "    sum_errs.append(err)\n",
        "\n",
        "\n",
        "n_interactions_subset = user_item_test_subset.shape[0]*user_item_test_subset.shape[1]\n",
        "    \n"
      ],
      "execution_count": null,
      "outputs": []
    },
    {
      "cell_type": "code",
      "metadata": {
        "id": "5jt2Eq1hLHgr",
        "colab_type": "code",
        "colab": {}
      },
      "source": [
        ""
      ],
      "execution_count": null,
      "outputs": []
    }
  ]
}